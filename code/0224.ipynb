{
 "cells": [
  {
   "cell_type": "code",
   "execution_count": 10,
   "metadata": {},
   "outputs": [
    {
     "name": "stdout",
     "output_type": "stream",
     "text": [
      "153.96197664021338\n",
      "15.710405779613609\n"
     ]
    }
   ],
   "source": [
    "import numpy as np\n",
    "import matplotlib.pyplot as plt\n",
    "\n",
    "from pyrtlib.climatology import AtmosphericProfiles as atmp\n",
    "\n",
    "#from pyrtlib.tb_spectrum import TbCloudRTE\n",
    "\n",
    "from pyrtlib.utils import ppmv2gkg, mr2rh, mr2rho\n",
    "\n",
    "atm_Tro = atmp.TROPICAL\n",
    "z, p, _, t, md = atmp.gl_atm(atm_Tro)\n",
    "md_H2O = md[:,atmp.H2O]\n",
    "# z: Altitudes (km) \n",
    "# p: Pressure (mbar)\n",
    "# t: Temperature (K)\n",
    "# md: Molecular densities (ppmv)\n",
    "\n",
    "p_pa = p*1e2 # convert mbar to Pa\n",
    "\n",
    "m_mix_gkg = ppmv2gkg(md_H2O,atmp.H2O) # convert to g/kg\n",
    "m_mix_kgkg = m_mix_gkg * 1e-3 # convert to kg/kg (g/g?)\n",
    "#print(m_mix_kgkg)\n",
    "\n",
    "rho_w_func = mr2rho(p,t,m_mix_gkg) #g/m^3\n",
    "rho_w_func = rho_w_func * 1e-3 # convert to kg/m^3\n",
    "\n",
    "g = 9.8 # m/s^2\n",
    "\n",
    "#first part of Integral \n",
    "# assume the Eq is mean the the mass density of liquid water kg/m^3 at standard condition\n",
    "rho_w_liq = 1000 #kg/m^3\n",
    "Area_fun = 0.5 * ((m_mix_kgkg[0]) + (m_mix_kgkg[1])) \\\n",
    "    * np.abs(p_pa[1] - p_pa[0]) #m\n",
    "print(Area_fun) # convert to mm\n",
    "\n",
    "print(Area_fun*1e3* (1/(g *rho_w_liq)))"
   ]
  },
  {
   "cell_type": "code",
   "execution_count": null,
   "metadata": {},
   "outputs": [],
   "source": []
  }
 ],
 "metadata": {
  "kernelspec": {
   "display_name": "base",
   "language": "python",
   "name": "python3"
  },
  "language_info": {
   "codemirror_mode": {
    "name": "ipython",
    "version": 3
   },
   "file_extension": ".py",
   "mimetype": "text/x-python",
   "name": "python",
   "nbconvert_exporter": "python",
   "pygments_lexer": "ipython3",
   "version": "3.12.4"
  }
 },
 "nbformat": 4,
 "nbformat_minor": 2
}
