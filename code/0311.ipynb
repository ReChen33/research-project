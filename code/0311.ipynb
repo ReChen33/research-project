{
 "cells": [
  {
   "cell_type": "markdown",
   "metadata": {},
   "source": [
    "# group meeting\n",
    "\n",
    "problem: doesn't have the servive temperature we used(3~few mK)\n",
    "\n",
    "SQUID  cable  analysis\n",
    "    "
   ]
  }
 ],
 "metadata": {
  "language_info": {
   "name": "python"
  }
 },
 "nbformat": 4,
 "nbformat_minor": 2
}
