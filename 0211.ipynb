{
 "cells": [
  {
   "cell_type": "markdown",
   "metadata": {},
   "source": [
    "# group meeting\n",
    "Tristan:\n",
    "    Load curves\n",
    "    Fig T vs time\n",
    "    cold down 21\n",
    "        channel 2 add load to curve\n",
    "        do efficiency code\n",
    "        for noisy or not flat data need a new code \n",
    "        new tools: fit newton's law of cooling method \n",
    "        mode: uncertainty or away from equilibrium tempureature\n",
    "        a better measuremet of our data\n",
    "\n",
    "        better low cuvers \n",
    "        let curves resolution better\n",
    "\n",
    "        Power value is aim to \n",
    "            put voltage ovec unserens\n",
    "            how voltage to power?  P = IV = P^2/mr\n",
    "            0.5 fot lose loss disetion\n"
   ]
  }
 ],
 "metadata": {
  "language_info": {
   "name": "python"
  }
 },
 "nbformat": 4,
 "nbformat_minor": 2
}
