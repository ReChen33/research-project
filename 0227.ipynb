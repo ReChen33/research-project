{
 "cells": [
  {
   "cell_type": "markdown",
   "metadata": {},
   "source": []
  },
  {
   "cell_type": "markdown",
   "metadata": {},
   "source": [
    "what I did \n",
    "Ducement for code"
   ]
  },
  {
   "cell_type": "markdown",
   "metadata": {},
   "source": [
    "# highlight  !SUBARCTIC_WINTER!\n",
    "\n",
    "What we measument the PWV \n",
    "    observe six points of the sky which is some sharp curve of PWV\n",
    "    to fit the Different PWV values modeling \n",
    "    so we can know the PWV influcen on our really observation bandwidth \n",
    "\n"
   ]
  }
 ],
 "metadata": {
  "language_info": {
   "name": "python"
  }
 },
 "nbformat": 4,
 "nbformat_minor": 2
}
