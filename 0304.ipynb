{
 "cells": [
  {
   "cell_type": "markdown",
   "metadata": {},
   "source": [
    "# no personal meeting\n",
    "# group meeting\n",
    "SQUID updata\n",
    "thermal conductivity for cable for SQUID\n"
   ]
  }
 ],
 "metadata": {
  "language_info": {
   "name": "python"
  }
 },
 "nbformat": 4,
 "nbformat_minor": 2
}
